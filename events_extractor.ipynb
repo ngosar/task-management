{
 "cells": [
  {
   "cell_type": "markdown",
   "metadata": {},
   "source": [
    "# Extract Outlook Appointments into Excel\n",
    "A python script that will prompt for the path to your .ics calendar file, extract each event's start date, start time, end date, end time, event name, description and save them in excel titled 'calendar_events.xlsx'"
   ]
  },
  {
   "cell_type": "code",
   "execution_count": null,
   "metadata": {},
   "outputs": [],
   "source": [
    "# install icalendar library into jupyter notebook\n",
    "!pip install icalendar \n",
    "\n",
    "\n",
    "\n"
   ]
  },
  {
   "cell_type": "code",
   "execution_count": null,
   "metadata": {},
   "outputs": [],
   "source": [
    "import pandas as pd\n",
    "from icalendar import Calendar\n",
    "\n",
    "def extract_calendar_events_from_ics(ics_file):\n",
    "    # Read the .ics file\n",
    "    with open(ics_file, 'rb') as f:\n",
    "        cal = Calendar.from_ical(f.read())\n",
    "\n",
    "    # Extract event details\n",
    "    event_data = []\n",
    "    for event in cal.walk('vevent'):\n",
    "        start_date = event.get('dtstart').dt\n",
    "        end_date = event.get('dtend').dt\n",
    "        summary = event.get('summary')\n",
    "        description = event.get('description')\n",
    "\n",
    "        event_data.append({\n",
    "            'Start Date': start_date.strftime('%Y-%m-%d'),\n",
    "            'Start Time': start_date.strftime('%H:%M'),\n",
    "            'End Date': end_date.strftime('%Y-%m-%d'),\n",
    "            'End Time': end_date.strftime('%H:%M'),\n",
    "            'Event Name': summary,\n",
    "            'Event Description': description\n",
    "        })\n",
    "\n",
    "    return event_data\n",
    "\n",
    "def save_to_excel(events, output_file):\n",
    "    # Create a DataFrame from event data\n",
    "    df = pd.DataFrame(events)\n",
    "\n",
    "    # Write DataFrame to Excel file\n",
    "    df.to_excel(output_file, index=False)\n",
    "\n",
    "if __name__ == \"__main__\":\n",
    "    # Prompt for the .ics file path\n",
    "    ics_file = input(\"Enter the path to the .ics file: \")\n",
    "\n",
    "    # Extract calendar events from .ics file\n",
    "    events = extract_calendar_events_from_ics(ics_file)\n",
    "\n",
    "    # Save events to Excel\n",
    "    output_file = 'calendar_events.xlsx'\n",
    "    save_to_excel(events, output_file)\n"
   ]
  },
  {
   "cell_type": "code",
   "execution_count": null,
   "metadata": {},
   "outputs": [],
   "source": []
  }
 ],
 "metadata": {
  "kernelspec": {
   "display_name": "Python 3",
   "language": "python",
   "name": "python3"
  },
  "language_info": {
   "codemirror_mode": {
    "name": "ipython",
    "version": 3
   },
   "file_extension": ".py",
   "mimetype": "text/x-python",
   "name": "python",
   "nbconvert_exporter": "python",
   "pygments_lexer": "ipython3",
   "version": "3.8.5"
  }
 },
 "nbformat": 4,
 "nbformat_minor": 4
}
