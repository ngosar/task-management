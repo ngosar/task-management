{
 "cells": [
  {
   "cell_type": "markdown",
   "metadata": {},
   "source": [
    "Extract Publication Titles and Authors from Prompted Folder into Excel\n",
    "\n",
    "Description: python script that will help me extract titles, authors from a specific folder on my desktop then save them into an excel document"
   ]
  },
  {
   "cell_type": "code",
   "execution_count": null,
   "metadata": {},
   "outputs": [],
   "source": [
    "#Install Required Libraries\n",
    "pip install PyPDF2 openpyxl"
   ]
  },
  {
   "cell_type": "code",
   "execution_count": null,
   "metadata": {},
   "outputs": [],
   "source": [
    "#main script\n",
    "import os\n",
    "import PyPDF2\n",
    "from tkinter import Tk, filedialog\n",
    "from openpyxl import Workbook\n",
    "\n",
    "# Function to extract title and author from a PDF file\n",
    "def extract_info(pdf_file):\n",
    "    with open(pdf_file, 'rb') as file:\n",
    "        pdf = PyPDF2.PdfFileReader(file)\n",
    "        title = pdf.getDocumentInfo().title\n",
    "        author = pdf.getDocumentInfo().author\n",
    "    return title, author\n",
    "\n",
    "# Create a GUI to select the folder\n",
    "def select_folder():\n",
    "    root = Tk()\n",
    "    root.withdraw()\n",
    "    folder_path = filedialog.askdirectory()\n",
    "    return folder_path\n",
    "\n",
    "# Get the folder path from the user\n",
    "folder_path = select_folder()\n",
    "\n",
    "# Initialize Excel workbook and sheet\n",
    "wb = Workbook()\n",
    "ws = wb.active\n",
    "ws.append(['Title', 'Author'])\n",
    "\n",
    "# Iterate through PDF files in the selected folder\n",
    "for filename in os.listdir(folder_path):\n",
    "    if filename.endswith('.pdf'):\n",
    "        pdf_path = os.path.join(folder_path, filename)\n",
    "        title, author = extract_info(pdf_path)\n",
    "        ws.append([title, author])\n",
    "\n",
    "# Save the extracted data to an Excel file\n",
    "wb.save('extracted_data.xlsx')"
   ]
  }
 ],
 "metadata": {
  "language_info": {
   "name": "python"
  }
 },
 "nbformat": 4,
 "nbformat_minor": 2
}
