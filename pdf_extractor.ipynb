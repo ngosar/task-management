{
 "cells": [
  {
   "cell_type": "markdown",
   "metadata": {},
   "source": [
    "Extract Publication Titles and Authors from Prompted Folder into Excel\n",
    "\n",
    "Description: python script that will help me extract titles, authors from a specific folder on my desktop then save them into an excel document"
   ]
  },
  {
   "cell_type": "code",
   "execution_count": 1,
   "metadata": {},
   "outputs": [
    {
     "name": "stdout",
     "output_type": "stream",
     "text": [
      "Requirement already satisfied: PyPDF2 in /Users/sarahngo/opt/anaconda3/lib/python3.8/site-packages (3.0.1)\n",
      "Requirement already satisfied: typing_extensions>=3.10.0.0; python_version < \"3.10\" in /Users/sarahngo/opt/anaconda3/lib/python3.8/site-packages (from PyPDF2) (4.10.0)\n",
      "Note: you may need to restart the kernel to use updated packages.\n"
     ]
    }
   ],
   "source": [
    "#Install Required Libraries\n",
    "%pip install PyPDF2"
   ]
  },
  {
   "cell_type": "code",
   "execution_count": 6,
   "metadata": {},
   "outputs": [],
   "source": [
    "#main script\n",
    "import os\n",
    "import PyPDF2\n",
    "from tkinter import Tk, filedialog\n",
    "from openpyxl import Workbook\n",
    "\n",
    "# Function to extract title and author from a PDF file\n",
    "def extract_info(pdf_file):\n",
    "    with open(pdf_file, 'rb') as file:\n",
    "        pdf = PyPDF2.PdfReader(file)\n",
    "        title = pdf.metadata.title\n",
    "        author = pdf.metadata.author\n",
    "    return title, author\n",
    "\n",
    "# GUI to select the folder containing PDF files\n",
    "def select_folder():\n",
    "    root = Tk()\n",
    "    root.withdraw()\n",
    "    folder_path = filedialog.askdirectory()\n",
    "    return folder_path\n",
    "\n",
    "# Main script to extract data and save to Excel\n",
    "def main():\n",
    "    folder_path = select_folder()\n",
    "    excel_file = Workbook()\n",
    "    sheet = excel_file.active\n",
    "    sheet.append(['Title', 'Author'])\n",
    "\n",
    "    for file_name in os.listdir(folder_path):\n",
    "        if file_name.endswith('.pdf'):\n",
    "            title, author = extract_info(os.path.join(folder_path, file_name))\n",
    "            sheet.append([title, author])\n",
    "\n",
    "    excel_file.save('pdf_info.xlsx')\n",
    "\n",
    "if __name__ == '__main__':\n",
    "    main()"
   ]
  },
  {
   "cell_type": "code",
   "execution_count": null,
   "metadata": {},
   "outputs": [],
   "source": []
  }
 ],
 "metadata": {
  "kernelspec": {
   "display_name": "Python 3",
   "language": "python",
   "name": "python3"
  },
  "language_info": {
   "codemirror_mode": {
    "name": "ipython",
    "version": 3
   },
   "file_extension": ".py",
   "mimetype": "text/x-python",
   "name": "python",
   "nbconvert_exporter": "python",
   "pygments_lexer": "ipython3",
   "version": "3.8.5"
  }
 },
 "nbformat": 4,
 "nbformat_minor": 2
}
