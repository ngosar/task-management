{
 "cells": [
  {
   "cell_type": "markdown",
   "metadata": {},
   "source": [
    "# Exploring Dimensions Dataset - EDA Using SweetViz\n",
    "Python Script prompts for file selection, brings it in as dataframe df, utilizes SweetViz to conduct exploratory data analysis\n",
    "\n",
    "This specifically process data exported from Dimensions database"
   ]
  },
  {
   "cell_type": "code",
   "execution_count": null,
   "metadata": {},
   "outputs": [],
   "source": [
    "#prompts to select data file\n",
    "import pandas as pd\n",
    "import tkinter as tk\n",
    "from tkinter import filedialog\n",
    "\n",
    "\n",
    "def create_dataframe_from_file():\n",
    "    # Create a Tkinter window\n",
    "    root = tk.Tk()\n",
    "    root.withdraw()  # Hide the main window\n",
    "\n",
    "    # Prompt the user to select a file\n",
    "    file_path = filedialog.askopenfilename(title=\"Select a file\")\n",
    "\n",
    "    if file_path:\n",
    "        # Read the file into a DataFrame\n",
    "        df = pd.read_csv(file_path)  # Adjust this line for different file types (e.g., pd.read_excel for Excel files)\n",
    "\n",
    "        return df\n",
    "    else:\n",
    "        print(\"No file selected.\")\n",
    "        return None\n",
    "\n",
    "if __name__ == \"__main__\":\n",
    "    # Create a DataFrame df from the selected file\n",
    "    df = create_dataframe_from_file()\n",
    "\n",
    "    if df is not None:\n",
    "        print(\"DataFrame df created successfully:\")\n",
    "        print(df.head())\n",
    "    else:\n",
    "        print(\"DataFrame df creation aborted.\")\n",
    "\n"
   ]
  },
  {
   "cell_type": "code",
   "execution_count": null,
   "metadata": {},
   "outputs": [],
   "source": [
    "df.head()\n"
   ]
  },
  {
   "cell_type": "code",
   "execution_count": null,
   "metadata": {},
   "outputs": [],
   "source": [
    "#check what columns were imported, then drop them if cells do not hold data\n",
    "for idx, column_name in enumerate(df.columns):\n",
    "    print(f\"Column {idx}: {column_name}\")"
   ]
  },
  {
   "cell_type": "code",
   "execution_count": null,
   "metadata": {},
   "outputs": [],
   "source": [
    "df.drop(columns=df.columns[25:2153], inplace=True)"
   ]
  },
  {
   "cell_type": "code",
   "execution_count": null,
   "metadata": {},
   "outputs": [],
   "source": [
    "df['PMID'] = df['PMID'].astype(str)\n",
    "df['Title'] = df['Title'].astype(str)\n",
    "df['Publication date'] = pd.to_numeric(df['Publication date'], errors='coerce')\n",
    "df['PubYear'] = pd.to_numeric(df['PubYear'], errors='coerce')\n",
    "df['Publication date (print)'] = pd.to_numeric(df['Publication date (print)'], errors='coerce')\n",
    "df['Publication date (online)'] = pd.to_numeric(df['Publication date (online)'], errors='coerce')\n",
    "df['Supporting Grants'] = df['Supporting Grants'].astype(str)\n",
    "df['Times cited'] = pd.to_numeric(df['Times cited'], errors='coerce')\n",
    "df['Recent citations'] = pd.to_numeric(df['Recent citations'], errors='coerce')\n",
    "df['RCR'] = pd.to_numeric(df['RCR'], errors='coerce')\n",
    "df['FCR'] = pd.to_numeric(df['FCR'], errors='coerce')\n",
    "df['Altmetric'] = pd.to_numeric(df['Altmetric'], errors='coerce')"
   ]
  },
  {
   "cell_type": "code",
   "execution_count": null,
   "metadata": {},
   "outputs": [],
   "source": [
    "#installing the sweetviz library \n",
    "!pip install sweetviz"
   ]
  },
  {
   "cell_type": "code",
   "execution_count": null,
   "metadata": {},
   "outputs": [],
   "source": [
    "# import the required libraries \n",
    "import sweetviz as sv\n",
    "from sklearn.datasets import fetch_california_housing\n",
    "from sklearn.model_selection import train_test_split\n",
    "\n",
    "print(\"SweetViz Version : {}\".format(sv.__version__))\n"
   ]
  },
  {
   "cell_type": "code",
   "execution_count": null,
   "metadata": {},
   "outputs": [],
   "source": [
    "# analyzing the dataset\n",
    "report = sv.analyze(df,\n",
    "                    pairwise_analysis= \"on\")\n"
   ]
  },
  {
   "cell_type": "code",
   "execution_count": null,
   "metadata": {},
   "outputs": [],
   "source": [
    "#show the report\n",
    "report.show_html('Dimensions.html')"
   ]
  },
  {
   "cell_type": "code",
   "execution_count": null,
   "metadata": {},
   "outputs": [],
   "source": []
  }
 ],
 "metadata": {
  "kernelspec": {
   "display_name": "Python 3",
   "language": "python",
   "name": "python3"
  },
  "language_info": {
   "codemirror_mode": {
    "name": "ipython",
    "version": 3
   },
   "file_extension": ".py",
   "mimetype": "text/x-python",
   "name": "python",
   "nbconvert_exporter": "python",
   "pygments_lexer": "ipython3",
   "version": "3.8.5"
  }
 },
 "nbformat": 4,
 "nbformat_minor": 4
}
